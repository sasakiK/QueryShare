{
 "cells": [
  {
   "cell_type": "markdown",
   "metadata": {},
   "source": [
    "# parepare dataset for QueryShare"
   ]
  },
  {
   "cell_type": "markdown",
   "metadata": {},
   "source": [
    "## sample table"
   ]
  },
  {
   "cell_type": "code",
   "execution_count": 68,
   "metadata": {},
   "outputs": [],
   "source": [
    "import os\n",
    "import sqlite3\n",
    "import pandas as pd\n",
    "from sklearn import datasets\n",
    "from sklearn.datasets import load_linnerud\n",
    "import hashlib\n",
    "import numexpr\n",
    "import datetime"
   ]
  },
  {
   "cell_type": "code",
   "execution_count": 6,
   "metadata": {},
   "outputs": [
    {
     "data": {
      "text/plain": [
       "'/home/jovyan/QueryShare/treat_db'"
      ]
     },
     "execution_count": 6,
     "metadata": {},
     "output_type": "execute_result"
    }
   ],
   "source": [
    "os.chdir(\"/home/jovyan/QueryShare/treat_db/\")\n",
    "os.getcwd()"
   ]
  },
  {
   "cell_type": "code",
   "execution_count": 8,
   "metadata": {},
   "outputs": [],
   "source": [
    "conn = sqlite3.connect('data/user_db.db')"
   ]
  },
  {
   "cell_type": "code",
   "execution_count": 4,
   "metadata": {},
   "outputs": [
    {
     "data": {
      "text/html": [
       "<div>\n",
       "<style scoped>\n",
       "    .dataframe tbody tr th:only-of-type {\n",
       "        vertical-align: middle;\n",
       "    }\n",
       "\n",
       "    .dataframe tbody tr th {\n",
       "        vertical-align: top;\n",
       "    }\n",
       "\n",
       "    .dataframe thead th {\n",
       "        text-align: right;\n",
       "    }\n",
       "</style>\n",
       "<table border=\"1\" class=\"dataframe\">\n",
       "  <thead>\n",
       "    <tr style=\"text-align: right;\">\n",
       "      <th></th>\n",
       "      <th>0</th>\n",
       "      <th>1</th>\n",
       "      <th>2</th>\n",
       "      <th>3</th>\n",
       "    </tr>\n",
       "  </thead>\n",
       "  <tbody>\n",
       "    <tr>\n",
       "      <th>0</th>\n",
       "      <td>5.1</td>\n",
       "      <td>3.5</td>\n",
       "      <td>1.4</td>\n",
       "      <td>0.2</td>\n",
       "    </tr>\n",
       "    <tr>\n",
       "      <th>1</th>\n",
       "      <td>4.9</td>\n",
       "      <td>3.0</td>\n",
       "      <td>1.4</td>\n",
       "      <td>0.2</td>\n",
       "    </tr>\n",
       "    <tr>\n",
       "      <th>2</th>\n",
       "      <td>4.7</td>\n",
       "      <td>3.2</td>\n",
       "      <td>1.3</td>\n",
       "      <td>0.2</td>\n",
       "    </tr>\n",
       "    <tr>\n",
       "      <th>3</th>\n",
       "      <td>4.6</td>\n",
       "      <td>3.1</td>\n",
       "      <td>1.5</td>\n",
       "      <td>0.2</td>\n",
       "    </tr>\n",
       "    <tr>\n",
       "      <th>4</th>\n",
       "      <td>5.0</td>\n",
       "      <td>3.6</td>\n",
       "      <td>1.4</td>\n",
       "      <td>0.2</td>\n",
       "    </tr>\n",
       "  </tbody>\n",
       "</table>\n",
       "</div>"
      ],
      "text/plain": [
       "     0    1    2    3\n",
       "0  5.1  3.5  1.4  0.2\n",
       "1  4.9  3.0  1.4  0.2\n",
       "2  4.7  3.2  1.3  0.2\n",
       "3  4.6  3.1  1.5  0.2\n",
       "4  5.0  3.6  1.4  0.2"
      ]
     },
     "execution_count": 4,
     "metadata": {},
     "output_type": "execute_result"
    }
   ],
   "source": [
    "iris = datasets.load_iris()\n",
    "iris= pd.DataFrame(iris.data)\n",
    "iris.head()"
   ]
  },
  {
   "cell_type": "markdown",
   "metadata": {},
   "source": [
    "## tableを調査"
   ]
  },
  {
   "cell_type": "code",
   "execution_count": 5,
   "metadata": {},
   "outputs": [
    {
     "name": "stdout",
     "output_type": "stream",
     "text": [
      "linnerud_test\n",
      "iris_test\n"
     ]
    }
   ],
   "source": [
    "iris.to_sql(\"iris_test\", conn, if_exists=\"replace\")\n",
    "res = conn.execute(\"SELECT name FROM sqlite_master WHERE type='table';\")\n",
    "for name in res:\n",
    "    print(name[0])"
   ]
  },
  {
   "cell_type": "markdown",
   "metadata": {},
   "source": [
    "# 跳躍データセットを作成する"
   ]
  },
  {
   "cell_type": "code",
   "execution_count": 10,
   "metadata": {},
   "outputs": [
    {
     "name": "stdout",
     "output_type": "stream",
     "text": [
      "iris_test\n",
      "linnerud_test\n"
     ]
    }
   ],
   "source": [
    "linnerud = load_linnerud()\n",
    "linnerud = pd.DataFrame(linnerud.data, columns=linnerud.feature_names)\n",
    "linnerud\n",
    "\n",
    "linnerud.to_sql(\"linnerud_test\", conn, if_exists=\"replace\")\n",
    "res = conn.execute(\"SELECT name FROM sqlite_master WHERE type='table';\")\n",
    "for name in res:\n",
    "    print(name[0])"
   ]
  },
  {
   "cell_type": "markdown",
   "metadata": {},
   "source": [
    "## user dataを作る"
   ]
  },
  {
   "cell_type": "code",
   "execution_count": 79,
   "metadata": {},
   "outputs": [],
   "source": [
    "# dbファイルを作成\n",
    "conn_user = sqlite3.connect('/home/jovyan/QueryShare/app/data/user_db.db')"
   ]
  },
  {
   "cell_type": "code",
   "execution_count": 80,
   "metadata": {},
   "outputs": [
    {
     "data": {
      "text/plain": [
       "'f52d885484f1215ea500a805a86ff443'"
      ]
     },
     "execution_count": 80,
     "metadata": {},
     "output_type": "execute_result"
    }
   ],
   "source": [
    "# ハッシュからID作成\n",
    "hashlib.md5(b'hello hello').hexdigest()"
   ]
  },
  {
   "cell_type": "code",
   "execution_count": 81,
   "metadata": {},
   "outputs": [
    {
     "data": {
      "text/html": [
       "<div>\n",
       "<style scoped>\n",
       "    .dataframe tbody tr th:only-of-type {\n",
       "        vertical-align: middle;\n",
       "    }\n",
       "\n",
       "    .dataframe tbody tr th {\n",
       "        vertical-align: top;\n",
       "    }\n",
       "\n",
       "    .dataframe thead th {\n",
       "        text-align: right;\n",
       "    }\n",
       "</style>\n",
       "<table border=\"1\" class=\"dataframe\">\n",
       "  <thead>\n",
       "    <tr style=\"text-align: right;\">\n",
       "      <th></th>\n",
       "      <th>Date</th>\n",
       "      <th>Mail</th>\n",
       "      <th>Name</th>\n",
       "      <th>Passward</th>\n",
       "    </tr>\n",
       "  </thead>\n",
       "  <tbody>\n",
       "    <tr>\n",
       "      <th>0</th>\n",
       "      <td>2018-06-29</td>\n",
       "      <td>samle1@gmail.com</td>\n",
       "      <td>qs_user1</td>\n",
       "      <td>pass1</td>\n",
       "    </tr>\n",
       "    <tr>\n",
       "      <th>1</th>\n",
       "      <td>2018-06-29</td>\n",
       "      <td>sample2@gmail.com</td>\n",
       "      <td>qs_user2</td>\n",
       "      <td>pass2</td>\n",
       "    </tr>\n",
       "    <tr>\n",
       "      <th>2</th>\n",
       "      <td>2018-06-29</td>\n",
       "      <td>sample3@gmail.com</td>\n",
       "      <td>qs_user3</td>\n",
       "      <td>pass3</td>\n",
       "    </tr>\n",
       "  </tbody>\n",
       "</table>\n",
       "</div>"
      ],
      "text/plain": [
       "         Date               Mail      Name Passward\n",
       "0  2018-06-29   samle1@gmail.com  qs_user1    pass1\n",
       "1  2018-06-29  sample2@gmail.com  qs_user2    pass2\n",
       "2  2018-06-29  sample3@gmail.com  qs_user3    pass3"
      ]
     },
     "execution_count": 81,
     "metadata": {},
     "output_type": "execute_result"
    }
   ],
   "source": [
    "# ユーザーテーブルに使うデータを定義する\n",
    "user_table = pd.DataFrame({ 'Date' : [datetime.date.today(), datetime.date.today(), datetime.date.today()],\n",
    "                                                    'Mail'  : ['samle1@gmail.com', 'sample2@gmail.com', 'sample3@gmail.com'],\n",
    "                                                    'Name' : ['qs_user1', 'qs_user2', 'qs_user3'],\n",
    "                                                    'Passward' : ['pass1', 'pass2', 'pass3']\n",
    "                                                  })\n",
    "user_table"
   ]
  },
  {
   "cell_type": "code",
   "execution_count": 82,
   "metadata": {},
   "outputs": [
    {
     "name": "stdout",
     "output_type": "stream",
     "text": [
      "sql_table\n",
      "user_table\n"
     ]
    }
   ],
   "source": [
    "user_table.to_sql(\"user_table\", conn_user, if_exists=\"replace\")\n",
    "res = conn.execute(\"SELECT name FROM sqlite_master WHERE type='table';\")\n",
    "for name in res:\n",
    "    print(name[0])"
   ]
  },
  {
   "cell_type": "code",
   "execution_count": 84,
   "metadata": {},
   "outputs": [
    {
     "data": {
      "text/html": [
       "<div>\n",
       "<style scoped>\n",
       "    .dataframe tbody tr th:only-of-type {\n",
       "        vertical-align: middle;\n",
       "    }\n",
       "\n",
       "    .dataframe tbody tr th {\n",
       "        vertical-align: top;\n",
       "    }\n",
       "\n",
       "    .dataframe thead th {\n",
       "        text-align: right;\n",
       "    }\n",
       "</style>\n",
       "<table border=\"1\" class=\"dataframe\">\n",
       "  <thead>\n",
       "    <tr style=\"text-align: right;\">\n",
       "      <th></th>\n",
       "      <th>index</th>\n",
       "      <th>Date</th>\n",
       "      <th>Mail</th>\n",
       "      <th>Name</th>\n",
       "      <th>Passward</th>\n",
       "    </tr>\n",
       "  </thead>\n",
       "  <tbody>\n",
       "    <tr>\n",
       "      <th>0</th>\n",
       "      <td>0</td>\n",
       "      <td>2018-06-29</td>\n",
       "      <td>samle1@gmail.com</td>\n",
       "      <td>qs_user1</td>\n",
       "      <td>pass1</td>\n",
       "    </tr>\n",
       "    <tr>\n",
       "      <th>1</th>\n",
       "      <td>1</td>\n",
       "      <td>2018-06-29</td>\n",
       "      <td>sample2@gmail.com</td>\n",
       "      <td>qs_user2</td>\n",
       "      <td>pass2</td>\n",
       "    </tr>\n",
       "    <tr>\n",
       "      <th>2</th>\n",
       "      <td>2</td>\n",
       "      <td>2018-06-29</td>\n",
       "      <td>sample3@gmail.com</td>\n",
       "      <td>qs_user3</td>\n",
       "      <td>pass3</td>\n",
       "    </tr>\n",
       "  </tbody>\n",
       "</table>\n",
       "</div>"
      ],
      "text/plain": [
       "   index        Date               Mail      Name Passward\n",
       "0      0  2018-06-29   samle1@gmail.com  qs_user1    pass1\n",
       "1      1  2018-06-29  sample2@gmail.com  qs_user2    pass2\n",
       "2      2  2018-06-29  sample3@gmail.com  qs_user3    pass3"
      ]
     },
     "execution_count": 84,
     "metadata": {},
     "output_type": "execute_result"
    }
   ],
   "source": [
    "conn_user = sqlite3.connect(\"/home/jovyan/QueryShare/app/data/user_db.db\")\n",
    "df_user_table = pd.read_sql(\"select * from user_table\", conn_user)\n",
    "df_user_table"
   ]
  },
  {
   "cell_type": "code",
   "execution_count": 85,
   "metadata": {},
   "outputs": [
    {
     "data": {
      "text/plain": [
       "[['qs_user1', 'pass1'], ['qs_user2', 'pass2'], ['qs_user3', 'pass3']]"
      ]
     },
     "execution_count": 85,
     "metadata": {},
     "output_type": "execute_result"
    }
   ],
   "source": [
    "VALID_USERNAME_PASSWORD_PAIRS = [\n",
    "    ['qs_user1', 'pass1'],\n",
    "    ['qs_user2', 'pass2'],\n",
    "    ['qs_user3', 'pass3']\n",
    "]\n",
    "VALID_USERNAME_PASSWORD_PAIRS"
   ]
  },
  {
   "cell_type": "code",
   "execution_count": 89,
   "metadata": {},
   "outputs": [
    {
     "data": {
      "text/plain": [
       "[['qs_user1', 'pass1'], ['qs_user2', 'pass2'], ['qs_user3', 'pass3']]"
      ]
     },
     "execution_count": 89,
     "metadata": {},
     "output_type": "execute_result"
    }
   ],
   "source": [
    "# Keep this out of source code repository - save in a file or a database\n",
    "VALID_USERNAME_PASSWORD_PAIRS = [\n",
    "    [name, passward] for name,passward in  zip(df_user_table.Name, df_user_table.Passward) \n",
    "]\n",
    "VALID_USERNAME_PASSWORD_PAIRS"
   ]
  },
  {
   "cell_type": "markdown",
   "metadata": {},
   "source": [
    "## sql tableを作る"
   ]
  },
  {
   "cell_type": "code",
   "execution_count": 106,
   "metadata": {},
   "outputs": [],
   "source": [
    "# dbファイルを作成\n",
    "conn_sql = sqlite3.connect('/home/jovyan/QueryShare/app/data/sql_db.db')"
   ]
  },
  {
   "cell_type": "code",
   "execution_count": 107,
   "metadata": {},
   "outputs": [
    {
     "data": {
      "text/html": [
       "<div>\n",
       "<style scoped>\n",
       "    .dataframe tbody tr th:only-of-type {\n",
       "        vertical-align: middle;\n",
       "    }\n",
       "\n",
       "    .dataframe tbody tr th {\n",
       "        vertical-align: top;\n",
       "    }\n",
       "\n",
       "    .dataframe thead th {\n",
       "        text-align: right;\n",
       "    }\n",
       "</style>\n",
       "<table border=\"1\" class=\"dataframe\">\n",
       "  <thead>\n",
       "    <tr style=\"text-align: right;\">\n",
       "      <th></th>\n",
       "      <th>ID</th>\n",
       "      <th>Name</th>\n",
       "      <th>Statement</th>\n",
       "    </tr>\n",
       "  </thead>\n",
       "  <tbody>\n",
       "    <tr>\n",
       "      <th>0</th>\n",
       "      <td>qs_user1</td>\n",
       "      <td>test_sqlA_1.sql</td>\n",
       "      <td>SELECT * FROM linnerud_test where jumps &gt; 100;</td>\n",
       "    </tr>\n",
       "    <tr>\n",
       "      <th>1</th>\n",
       "      <td>qs_user1</td>\n",
       "      <td>test_sqlA_2.sql</td>\n",
       "      <td>SELECT * \\nFROM iris\\nWHERE Species = 'setosa'</td>\n",
       "    </tr>\n",
       "    <tr>\n",
       "      <th>2</th>\n",
       "      <td>qs_user1</td>\n",
       "      <td>test_sqlA_3.sql</td>\n",
       "      <td>SELECT * FROM iris WHERE ...</td>\n",
       "    </tr>\n",
       "    <tr>\n",
       "      <th>3</th>\n",
       "      <td>qs_user1</td>\n",
       "      <td>test_sqlA_4.sql</td>\n",
       "      <td>select x from test order by x collate reverse</td>\n",
       "    </tr>\n",
       "    <tr>\n",
       "      <th>4</th>\n",
       "      <td>qs_user2</td>\n",
       "      <td>test_sqlB_5.sql</td>\n",
       "      <td>SELECT * \\nFROM iris\\nWHERE</td>\n",
       "    </tr>\n",
       "    <tr>\n",
       "      <th>5</th>\n",
       "      <td>qs_user2</td>\n",
       "      <td>test_sqlB_6.sql</td>\n",
       "      <td>SELECT * \\nFROM .... よくわからない</td>\n",
       "    </tr>\n",
       "  </tbody>\n",
       "</table>\n",
       "</div>"
      ],
      "text/plain": [
       "         ID             Name                                       Statement\n",
       "0  qs_user1  test_sqlA_1.sql  SELECT * FROM linnerud_test where jumps > 100;\n",
       "1  qs_user1  test_sqlA_2.sql  SELECT * \\nFROM iris\\nWHERE Species = 'setosa'\n",
       "2  qs_user1  test_sqlA_3.sql                    SELECT * FROM iris WHERE ...\n",
       "3  qs_user1  test_sqlA_4.sql   select x from test order by x collate reverse\n",
       "4  qs_user2  test_sqlB_5.sql                     SELECT * \\nFROM iris\\nWHERE\n",
       "5  qs_user2  test_sqlB_6.sql                    SELECT * \\nFROM .... よくわからない"
      ]
     },
     "execution_count": 107,
     "metadata": {},
     "output_type": "execute_result"
    }
   ],
   "source": [
    "sql_table = pd.DataFrame({'ID' : ['qs_user1', 'qs_user1', 'qs_user1', 'qs_user1', 'qs_user2', 'qs_user2' ],\n",
    "                                                'Name' : ['test_sqlA_1.sql',\n",
    "                                                                 'test_sqlA_2.sql',\n",
    "                                                                 'test_sqlA_3.sql', \n",
    "                                                                 'test_sqlA_4.sql',\n",
    "                                                                 'test_sqlB_5.sql',\n",
    "                                                                 'test_sqlB_6.sql'],\n",
    "                                                'Statement': [\"SELECT * FROM linnerud_test where jumps > 100;\",\n",
    "                                                                        \"SELECT * \\nFROM iris\\nWHERE Species = 'setosa'\",\n",
    "                                                                        \"SELECT * FROM iris WHERE ...\",\n",
    "                                                                        \"select x from test order by x collate reverse\",\n",
    "                                                                        \"SELECT * \\nFROM iris\\nWHERE\",\n",
    "                                                                        \"SELECT * \\nFROM .... よくわからない\"]\n",
    "                                                 })\n",
    "sql_table"
   ]
  },
  {
   "cell_type": "code",
   "execution_count": 108,
   "metadata": {},
   "outputs": [
    {
     "name": "stdout",
     "output_type": "stream",
     "text": [
      "user_table\n",
      "sql_table\n"
     ]
    }
   ],
   "source": [
    "sql_table.to_sql(\"sql_table\", conn_sql, if_exists=\"replace\")\n",
    "res = conn.execute(\"SELECT name FROM sqlite_master WHERE type='table';\")\n",
    "for name in res:\n",
    "    print(name[0])"
   ]
  },
  {
   "cell_type": "code",
   "execution_count": 109,
   "metadata": {},
   "outputs": [
    {
     "data": {
      "text/plain": [
       "0    SELECT * FROM linnerud_test where jumps > 100;\n",
       "1    SELECT * \\nFROM iris\\nWHERE Species = 'setosa'\n",
       "2                      SELECT * FROM iris WHERE ...\n",
       "3     select x from test order by x collate reverse\n",
       "4                       SELECT * \\nFROM iris\\nWHERE\n",
       "5                      SELECT * \\nFROM .... よくわからない\n",
       "Name: Statement, dtype: object"
      ]
     },
     "execution_count": 109,
     "metadata": {},
     "output_type": "execute_result"
    }
   ],
   "source": [
    "sql_table.Statement"
   ]
  },
  {
   "cell_type": "markdown",
   "metadata": {},
   "source": [
    "# sqlレコードを更新する"
   ]
  },
  {
   "cell_type": "code",
   "execution_count": 127,
   "metadata": {},
   "outputs": [
    {
     "data": {
      "text/html": [
       "<div>\n",
       "<style scoped>\n",
       "    .dataframe tbody tr th:only-of-type {\n",
       "        vertical-align: middle;\n",
       "    }\n",
       "\n",
       "    .dataframe tbody tr th {\n",
       "        vertical-align: top;\n",
       "    }\n",
       "\n",
       "    .dataframe thead th {\n",
       "        text-align: right;\n",
       "    }\n",
       "</style>\n",
       "<table border=\"1\" class=\"dataframe\">\n",
       "  <thead>\n",
       "    <tr style=\"text-align: right;\">\n",
       "      <th></th>\n",
       "      <th>index</th>\n",
       "      <th>ID</th>\n",
       "      <th>Name</th>\n",
       "      <th>Statement</th>\n",
       "    </tr>\n",
       "  </thead>\n",
       "  <tbody>\n",
       "    <tr>\n",
       "      <th>0</th>\n",
       "      <td>0.0</td>\n",
       "      <td>qs_user1</td>\n",
       "      <td>test_sqlA_1.sql</td>\n",
       "      <td>SELECT * FROM linnerud_test where jumps &gt; 100;</td>\n",
       "    </tr>\n",
       "    <tr>\n",
       "      <th>1</th>\n",
       "      <td>1.0</td>\n",
       "      <td>qs_user1</td>\n",
       "      <td>test_sqlA_2.sql</td>\n",
       "      <td>SELECT * \\nFROM iris\\nWHERE Species = 'setosa'</td>\n",
       "    </tr>\n",
       "    <tr>\n",
       "      <th>2</th>\n",
       "      <td>2.0</td>\n",
       "      <td>qs_user1</td>\n",
       "      <td>test_sqlA_3.sql</td>\n",
       "      <td>SELECT * FROM iris WHERE ...</td>\n",
       "    </tr>\n",
       "    <tr>\n",
       "      <th>3</th>\n",
       "      <td>3.0</td>\n",
       "      <td>qs_user1</td>\n",
       "      <td>test_sqlA_4.sql</td>\n",
       "      <td>select x from test order by x collate reverse</td>\n",
       "    </tr>\n",
       "    <tr>\n",
       "      <th>4</th>\n",
       "      <td>4.0</td>\n",
       "      <td>qs_user2</td>\n",
       "      <td>test_sqlB_5.sql</td>\n",
       "      <td>SELECT * \\nFROM iris\\nWHERE</td>\n",
       "    </tr>\n",
       "    <tr>\n",
       "      <th>5</th>\n",
       "      <td>5.0</td>\n",
       "      <td>qs_user2</td>\n",
       "      <td>test_sqlB_6.sql</td>\n",
       "      <td>SELECT * \\nFROM .... よくわからない</td>\n",
       "    </tr>\n",
       "    <tr>\n",
       "      <th>6</th>\n",
       "      <td>NaN</td>\n",
       "      <td>qs_user1</td>\n",
       "      <td>add_sample.sql</td>\n",
       "      <td>SELECT * FROM TEST</td>\n",
       "    </tr>\n",
       "    <tr>\n",
       "      <th>7</th>\n",
       "      <td>NaN</td>\n",
       "      <td>qs_user1</td>\n",
       "      <td>add_sample.sql</td>\n",
       "      <td>SELECT * FROM TEST</td>\n",
       "    </tr>\n",
       "  </tbody>\n",
       "</table>\n",
       "</div>"
      ],
      "text/plain": [
       "   index        ID             Name  \\\n",
       "0    0.0  qs_user1  test_sqlA_1.sql   \n",
       "1    1.0  qs_user1  test_sqlA_2.sql   \n",
       "2    2.0  qs_user1  test_sqlA_3.sql   \n",
       "3    3.0  qs_user1  test_sqlA_4.sql   \n",
       "4    4.0  qs_user2  test_sqlB_5.sql   \n",
       "5    5.0  qs_user2  test_sqlB_6.sql   \n",
       "6    NaN  qs_user1   add_sample.sql   \n",
       "7    NaN  qs_user1   add_sample.sql   \n",
       "\n",
       "                                        Statement  \n",
       "0  SELECT * FROM linnerud_test where jumps > 100;  \n",
       "1  SELECT * \\nFROM iris\\nWHERE Species = 'setosa'  \n",
       "2                    SELECT * FROM iris WHERE ...  \n",
       "3   select x from test order by x collate reverse  \n",
       "4                     SELECT * \\nFROM iris\\nWHERE  \n",
       "5                    SELECT * \\nFROM .... よくわからない  \n",
       "6                              SELECT * FROM TEST  \n",
       "7                              SELECT * FROM TEST  "
      ]
     },
     "execution_count": 127,
     "metadata": {},
     "output_type": "execute_result"
    }
   ],
   "source": [
    "conn_sqldb = sqlite3.connect(\"/home/jovyan/QueryShare/app/data/sql_db.db\")\n",
    "# define statement\n",
    "statement = \"select * from sql_table\"\n",
    "df_fromdb = pd.read_sql(statement, conn)\n",
    "\n",
    "df_fromdb"
   ]
  },
  {
   "cell_type": "code",
   "execution_count": 128,
   "metadata": {},
   "outputs": [],
   "source": [
    "# RUNのstatementに変更\n",
    "\n",
    "c_username = \"qs_user1\"\n",
    "c_filename = \"test_sqlA_2.sql\"\n",
    "\n",
    "\n",
    "c = conn_sqldb.cursor()\n",
    "change_commit_sql = \"replace into sql_table (ID, Name, Statement) values(?,?,?)\"\n",
    "data = (c_username, c_filename, 'select * from sql_table NEW;')\n",
    "c.execute(change_commit_sql, data)\n",
    "conn_sql.commit()"
   ]
  },
  {
   "cell_type": "code",
   "execution_count": 129,
   "metadata": {},
   "outputs": [
    {
     "data": {
      "text/html": [
       "<div>\n",
       "<style scoped>\n",
       "    .dataframe tbody tr th:only-of-type {\n",
       "        vertical-align: middle;\n",
       "    }\n",
       "\n",
       "    .dataframe tbody tr th {\n",
       "        vertical-align: top;\n",
       "    }\n",
       "\n",
       "    .dataframe thead th {\n",
       "        text-align: right;\n",
       "    }\n",
       "</style>\n",
       "<table border=\"1\" class=\"dataframe\">\n",
       "  <thead>\n",
       "    <tr style=\"text-align: right;\">\n",
       "      <th></th>\n",
       "      <th>index</th>\n",
       "      <th>ID</th>\n",
       "      <th>Name</th>\n",
       "      <th>Statement</th>\n",
       "    </tr>\n",
       "  </thead>\n",
       "  <tbody>\n",
       "    <tr>\n",
       "      <th>0</th>\n",
       "      <td>0.0</td>\n",
       "      <td>qs_user1</td>\n",
       "      <td>test_sqlA_1.sql</td>\n",
       "      <td>SELECT * FROM linnerud_test where jumps &gt; 100;</td>\n",
       "    </tr>\n",
       "    <tr>\n",
       "      <th>1</th>\n",
       "      <td>1.0</td>\n",
       "      <td>qs_user1</td>\n",
       "      <td>test_sqlA_2.sql</td>\n",
       "      <td>SELECT * \\nFROM iris\\nWHERE Species = 'setosa'</td>\n",
       "    </tr>\n",
       "    <tr>\n",
       "      <th>2</th>\n",
       "      <td>2.0</td>\n",
       "      <td>qs_user1</td>\n",
       "      <td>test_sqlA_3.sql</td>\n",
       "      <td>SELECT * FROM iris WHERE ...</td>\n",
       "    </tr>\n",
       "    <tr>\n",
       "      <th>3</th>\n",
       "      <td>3.0</td>\n",
       "      <td>qs_user1</td>\n",
       "      <td>test_sqlA_4.sql</td>\n",
       "      <td>select x from test order by x collate reverse</td>\n",
       "    </tr>\n",
       "    <tr>\n",
       "      <th>4</th>\n",
       "      <td>4.0</td>\n",
       "      <td>qs_user2</td>\n",
       "      <td>test_sqlB_5.sql</td>\n",
       "      <td>SELECT * \\nFROM iris\\nWHERE</td>\n",
       "    </tr>\n",
       "    <tr>\n",
       "      <th>5</th>\n",
       "      <td>5.0</td>\n",
       "      <td>qs_user2</td>\n",
       "      <td>test_sqlB_6.sql</td>\n",
       "      <td>SELECT * \\nFROM .... よくわからない</td>\n",
       "    </tr>\n",
       "    <tr>\n",
       "      <th>6</th>\n",
       "      <td>NaN</td>\n",
       "      <td>qs_user1</td>\n",
       "      <td>add_sample.sql</td>\n",
       "      <td>SELECT * FROM TEST</td>\n",
       "    </tr>\n",
       "    <tr>\n",
       "      <th>7</th>\n",
       "      <td>NaN</td>\n",
       "      <td>qs_user1</td>\n",
       "      <td>add_sample.sql</td>\n",
       "      <td>SELECT * FROM TEST</td>\n",
       "    </tr>\n",
       "    <tr>\n",
       "      <th>8</th>\n",
       "      <td>NaN</td>\n",
       "      <td>qs_user1</td>\n",
       "      <td>test_sqlA_2.sql</td>\n",
       "      <td>select * from sql_table NEW;</td>\n",
       "    </tr>\n",
       "  </tbody>\n",
       "</table>\n",
       "</div>"
      ],
      "text/plain": [
       "   index        ID             Name  \\\n",
       "0    0.0  qs_user1  test_sqlA_1.sql   \n",
       "1    1.0  qs_user1  test_sqlA_2.sql   \n",
       "2    2.0  qs_user1  test_sqlA_3.sql   \n",
       "3    3.0  qs_user1  test_sqlA_4.sql   \n",
       "4    4.0  qs_user2  test_sqlB_5.sql   \n",
       "5    5.0  qs_user2  test_sqlB_6.sql   \n",
       "6    NaN  qs_user1   add_sample.sql   \n",
       "7    NaN  qs_user1   add_sample.sql   \n",
       "8    NaN  qs_user1  test_sqlA_2.sql   \n",
       "\n",
       "                                        Statement  \n",
       "0  SELECT * FROM linnerud_test where jumps > 100;  \n",
       "1  SELECT * \\nFROM iris\\nWHERE Species = 'setosa'  \n",
       "2                    SELECT * FROM iris WHERE ...  \n",
       "3   select x from test order by x collate reverse  \n",
       "4                     SELECT * \\nFROM iris\\nWHERE  \n",
       "5                    SELECT * \\nFROM .... よくわからない  \n",
       "6                              SELECT * FROM TEST  \n",
       "7                              SELECT * FROM TEST  \n",
       "8                    select * from sql_table NEW;  "
      ]
     },
     "execution_count": 129,
     "metadata": {},
     "output_type": "execute_result"
    }
   ],
   "source": [
    "statement = \"select * from sql_table\"\n",
    "df_fromdb = pd.read_sql(statement, conn_sqldb)\n",
    "\n",
    "df_fromdb"
   ]
  },
  {
   "cell_type": "markdown",
   "metadata": {},
   "source": [
    "# sqlレコードを追加する"
   ]
  },
  {
   "cell_type": "code",
   "execution_count": 113,
   "metadata": {},
   "outputs": [],
   "source": [
    "c = conn_sql.cursor()\n",
    "# テーブル作成\n",
    "# c.execute('create table artoria (name text, atk int, hp int)')\n",
    "\n",
    "# データ追加(レコード登録)\n",
    "sql = 'insert into sql_table (ID, Name, Statement) values (?,?,?)'\n",
    "data = ('qs_user1', \"add_sample.sql\", \"SELECT * FROM TEST\")\n",
    "c.execute(sql, data)\n",
    "\n",
    "# コミット\n",
    "conn_sql.commit()\n"
   ]
  },
  {
   "cell_type": "code",
   "execution_count": 115,
   "metadata": {},
   "outputs": [
    {
     "data": {
      "text/html": [
       "<div>\n",
       "<style scoped>\n",
       "    .dataframe tbody tr th:only-of-type {\n",
       "        vertical-align: middle;\n",
       "    }\n",
       "\n",
       "    .dataframe tbody tr th {\n",
       "        vertical-align: top;\n",
       "    }\n",
       "\n",
       "    .dataframe thead th {\n",
       "        text-align: right;\n",
       "    }\n",
       "</style>\n",
       "<table border=\"1\" class=\"dataframe\">\n",
       "  <thead>\n",
       "    <tr style=\"text-align: right;\">\n",
       "      <th></th>\n",
       "      <th>index</th>\n",
       "      <th>ID</th>\n",
       "      <th>Name</th>\n",
       "      <th>Statement</th>\n",
       "    </tr>\n",
       "  </thead>\n",
       "  <tbody>\n",
       "    <tr>\n",
       "      <th>0</th>\n",
       "      <td>0.0</td>\n",
       "      <td>qs_user1</td>\n",
       "      <td>test_sqlA_1.sql</td>\n",
       "      <td>SELECT * FROM linnerud_test where jumps &gt; 100;</td>\n",
       "    </tr>\n",
       "    <tr>\n",
       "      <th>1</th>\n",
       "      <td>1.0</td>\n",
       "      <td>qs_user1</td>\n",
       "      <td>test_sqlA_2.sql</td>\n",
       "      <td>SELECT * \\nFROM iris\\nWHERE Species = 'setosa'</td>\n",
       "    </tr>\n",
       "    <tr>\n",
       "      <th>2</th>\n",
       "      <td>2.0</td>\n",
       "      <td>qs_user1</td>\n",
       "      <td>test_sqlA_3.sql</td>\n",
       "      <td>SELECT * FROM iris WHERE ...</td>\n",
       "    </tr>\n",
       "    <tr>\n",
       "      <th>3</th>\n",
       "      <td>3.0</td>\n",
       "      <td>qs_user1</td>\n",
       "      <td>test_sqlA_4.sql</td>\n",
       "      <td>select x from test order by x collate reverse</td>\n",
       "    </tr>\n",
       "    <tr>\n",
       "      <th>4</th>\n",
       "      <td>4.0</td>\n",
       "      <td>qs_user2</td>\n",
       "      <td>test_sqlB_5.sql</td>\n",
       "      <td>SELECT * \\nFROM iris\\nWHERE</td>\n",
       "    </tr>\n",
       "    <tr>\n",
       "      <th>5</th>\n",
       "      <td>5.0</td>\n",
       "      <td>qs_user2</td>\n",
       "      <td>test_sqlB_6.sql</td>\n",
       "      <td>SELECT * \\nFROM .... よくわからない</td>\n",
       "    </tr>\n",
       "    <tr>\n",
       "      <th>6</th>\n",
       "      <td>NaN</td>\n",
       "      <td>qs_user1</td>\n",
       "      <td>add_sample.sql</td>\n",
       "      <td>SELECT * FROM TEST</td>\n",
       "    </tr>\n",
       "    <tr>\n",
       "      <th>7</th>\n",
       "      <td>NaN</td>\n",
       "      <td>qs_user1</td>\n",
       "      <td>add_sample.sql</td>\n",
       "      <td>SELECT * FROM TEST</td>\n",
       "    </tr>\n",
       "  </tbody>\n",
       "</table>\n",
       "</div>"
      ],
      "text/plain": [
       "   index        ID             Name  \\\n",
       "0    0.0  qs_user1  test_sqlA_1.sql   \n",
       "1    1.0  qs_user1  test_sqlA_2.sql   \n",
       "2    2.0  qs_user1  test_sqlA_3.sql   \n",
       "3    3.0  qs_user1  test_sqlA_4.sql   \n",
       "4    4.0  qs_user2  test_sqlB_5.sql   \n",
       "5    5.0  qs_user2  test_sqlB_6.sql   \n",
       "6    NaN  qs_user1   add_sample.sql   \n",
       "7    NaN  qs_user1   add_sample.sql   \n",
       "\n",
       "                                        Statement  \n",
       "0  SELECT * FROM linnerud_test where jumps > 100;  \n",
       "1  SELECT * \\nFROM iris\\nWHERE Species = 'setosa'  \n",
       "2                    SELECT * FROM iris WHERE ...  \n",
       "3   select x from test order by x collate reverse  \n",
       "4                     SELECT * \\nFROM iris\\nWHERE  \n",
       "5                    SELECT * \\nFROM .... よくわからない  \n",
       "6                              SELECT * FROM TEST  \n",
       "7                              SELECT * FROM TEST  "
      ]
     },
     "execution_count": 115,
     "metadata": {},
     "output_type": "execute_result"
    }
   ],
   "source": [
    "conn_sqldb = sqlite3.connect(\"/home/jovyan/QueryShare/app/data/sql_db.db\")\n",
    "df_sql_table = pd.read_sql(\"select * from sql_table\", conn_sqldb)\n",
    "df_sql_table"
   ]
  },
  {
   "cell_type": "code",
   "execution_count": 60,
   "metadata": {},
   "outputs": [
    {
     "data": {
      "text/html": [
       "<div>\n",
       "<style scoped>\n",
       "    .dataframe tbody tr th:only-of-type {\n",
       "        vertical-align: middle;\n",
       "    }\n",
       "\n",
       "    .dataframe tbody tr th {\n",
       "        vertical-align: top;\n",
       "    }\n",
       "\n",
       "    .dataframe thead th {\n",
       "        text-align: right;\n",
       "    }\n",
       "</style>\n",
       "<table border=\"1\" class=\"dataframe\">\n",
       "  <thead>\n",
       "    <tr style=\"text-align: right;\">\n",
       "      <th></th>\n",
       "      <th>ID</th>\n",
       "      <th>Name</th>\n",
       "      <th>Statement</th>\n",
       "    </tr>\n",
       "  </thead>\n",
       "  <tbody>\n",
       "    <tr>\n",
       "      <th>0</th>\n",
       "      <td>AAA</td>\n",
       "      <td>test_sqlA_1.sql</td>\n",
       "      <td>SELECT * FROM linnerud_test where jumps &gt; 100;</td>\n",
       "    </tr>\n",
       "    <tr>\n",
       "      <th>1</th>\n",
       "      <td>AAA</td>\n",
       "      <td>test_sqlA_2.sql</td>\n",
       "      <td>SELECT * \\nFROM iris\\nWHERE Species = 'setosa'</td>\n",
       "    </tr>\n",
       "    <tr>\n",
       "      <th>2</th>\n",
       "      <td>AAA</td>\n",
       "      <td>test_sqlA_3.sql</td>\n",
       "      <td>SELECT * FROM iris WHERE ...</td>\n",
       "    </tr>\n",
       "    <tr>\n",
       "      <th>3</th>\n",
       "      <td>AAA</td>\n",
       "      <td>test_sqlA_4.sql</td>\n",
       "      <td>select x from test order by x collate reverse</td>\n",
       "    </tr>\n",
       "  </tbody>\n",
       "</table>\n",
       "</div>"
      ],
      "text/plain": [
       "    ID             Name                                       Statement\n",
       "0  AAA  test_sqlA_1.sql  SELECT * FROM linnerud_test where jumps > 100;\n",
       "1  AAA  test_sqlA_2.sql  SELECT * \\nFROM iris\\nWHERE Species = 'setosa'\n",
       "2  AAA  test_sqlA_3.sql                    SELECT * FROM iris WHERE ...\n",
       "3  AAA  test_sqlA_4.sql   select x from test order by x collate reverse"
      ]
     },
     "execution_count": 60,
     "metadata": {},
     "output_type": "execute_result"
    }
   ],
   "source": [
    "c_user_id = 'AAA'\n",
    "sql_table.query('ID in \"' + c_user_id + '\"')"
   ]
  },
  {
   "cell_type": "code",
   "execution_count": 62,
   "metadata": {},
   "outputs": [
    {
     "data": {
      "text/plain": [
       "[{'label': 'test_sqlA_1.sql',\n",
       "  'value': 'SELECT * FROM linnerud_test where jumps > 100;'},\n",
       " {'label': 'test_sqlA_2.sql',\n",
       "  'value': \"SELECT * \\nFROM iris\\nWHERE Species = 'setosa'\"},\n",
       " {'label': 'test_sqlA_3.sql', 'value': 'SELECT * FROM iris WHERE ...'},\n",
       " {'label': 'test_sqlA_4.sql',\n",
       "  'value': 'select x from test order by x collate reverse'},\n",
       " {'label': 'test_sqlB_5.sql', 'value': 'SELECT * \\nFROM iris\\nWHERE'},\n",
       " {'label': 'test_sqlB_6.sql', 'value': 'SELECT * \\nFROM .... よくわからない'}]"
      ]
     },
     "execution_count": 62,
     "metadata": {},
     "output_type": "execute_result"
    }
   ],
   "source": [
    "options=[{'label': i, 'value': j} for i,j in zip(sql_table.Name,\n",
    "                                                                 sql_table.Statement)]\n",
    "options"
   ]
  },
  {
   "cell_type": "code",
   "execution_count": 67,
   "metadata": {},
   "outputs": [
    {
     "name": "stdout",
     "output_type": "stream",
     "text": [
      "0\n",
      "1\n",
      "2\n",
      "3\n",
      "4\n",
      "5\n"
     ]
    }
   ],
   "source": [
    "for now in sql_table.index.tolist():\n",
    "    print(now)"
   ]
  },
  {
   "cell_type": "code",
   "execution_count": 96,
   "metadata": {},
   "outputs": [
    {
     "data": {
      "text/plain": [
       "'SELECT * FROM linnerud_test where jumps > 100;'"
      ]
     },
     "execution_count": 96,
     "metadata": {},
     "output_type": "execute_result"
    }
   ],
   "source": [
    "test_query=[statement for statement in sql_table_current.Statement]\n",
    "test_query[0]"
   ]
  },
  {
   "cell_type": "code",
   "execution_count": 97,
   "metadata": {},
   "outputs": [
    {
     "data": {
      "text/plain": [
       "['test_sqlA_1.sql',\n",
       " 'test_sqlA_2.sql',\n",
       " 'test_sqlA_3.sql',\n",
       " 'test_sqlA_4.sql',\n",
       " 'test_sqlB_5.sql',\n",
       " 'test_sqlB_6.sql']"
      ]
     },
     "execution_count": 97,
     "metadata": {},
     "output_type": "execute_result"
    }
   ],
   "source": [
    "[sql for sql in sql_table.Name]"
   ]
  },
  {
   "cell_type": "code",
   "execution_count": null,
   "metadata": {},
   "outputs": [],
   "source": []
  }
 ],
 "metadata": {
  "kernelspec": {
   "display_name": "Python 3",
   "language": "python",
   "name": "python3"
  },
  "language_info": {
   "codemirror_mode": {
    "name": "ipython",
    "version": 3
   },
   "file_extension": ".py",
   "mimetype": "text/x-python",
   "name": "python",
   "nbconvert_exporter": "python",
   "pygments_lexer": "ipython3",
   "version": "3.6.4"
  }
 },
 "nbformat": 4,
 "nbformat_minor": 2
}
